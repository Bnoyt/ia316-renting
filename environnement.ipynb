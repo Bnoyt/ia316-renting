{
 "cells": [
  {
   "cell_type": "markdown",
   "metadata": {},
   "source": [
    "# Environnement for the bike renting system\n"
   ]
  },
  {
   "cell_type": "code",
   "execution_count": 1,
   "metadata": {},
   "outputs": [],
   "source": [
    "import pandas as pd\n",
    "import numpy as np\n",
    "import random\n",
    "from tqdm import tqdm\n",
    "import matplotlib.pyplot as plt"
   ]
  },
  {
   "cell_type": "markdown",
   "metadata": {},
   "source": [
    "## General Idea"
   ]
  },
  {
   "cell_type": "markdown",
   "metadata": {},
   "source": [
    "On the one side, we have the user that is willing to rent a bike, and on the other hand we have the bike renter that needs to rent its bikes"
   ]
  },
  {
   "cell_type": "markdown",
   "metadata": {},
   "source": [
    "We imagine a website where after giving (knowingly or not) some information, the user is showed a list of bikes and decides whether it wants to rent it."
   ]
  },
  {
   "cell_type": "markdown",
   "metadata": {},
   "source": [
    "We will define for each user a private array of dimension k of caracteristics that would define the embedding preferences of the user"
   ]
  },
  {
   "cell_type": "markdown",
   "metadata": {},
   "source": [
    "Similarly for the bikes, each one will have an array of caracteristics (of same dimension : k)"
   ]
  },
  {
   "cell_type": "markdown",
   "metadata": {},
   "source": [
    "This way, we can define how much the user would like the bike by simply calculating the similarity between the user and the bike"
   ]
  },
  {
   "cell_type": "markdown",
   "metadata": {},
   "source": [
    "When we know how much a user wants a bike, we add a price sensitivity factor (probability to buy according to price), and a duration sensitivity factor (probability to buy according to how much the proposed renting period is right)"
   ]
  },
  {
   "cell_type": "markdown",
   "metadata": {},
   "source": [
    "We assume that each bike is a cluster and user a uniforly normally distributed around these clustersw"
   ]
  },
  {
   "cell_type": "markdown",
   "metadata": {},
   "source": [
    "An experience would be a list of user in a particular order"
   ]
  },
  {
   "cell_type": "code",
   "execution_count": 2,
   "metadata": {},
   "outputs": [],
   "source": [
    "def similarity(x,y):\n",
    "    X = np.array(x)\n",
    "    Y = np.array(y)\n",
    "    \n",
    "    a = np.mean(X*X)\n",
    "    b = np.mean(Y*Y)\n",
    "    \n",
    "    if a == 0 or b == 0:\n",
    "        return 0\n",
    "    else:\n",
    "        return np.mean(X*Y)/np.sqrt(a*b)\n",
    "\n",
    "\n",
    "\n",
    "class Person(object):\n",
    "    \n",
    "    def __init__(self,params,price_appetence,seed,user_id):\n",
    "        \n",
    "        \"\"\"\n",
    "        A person is defined by its public info (that the website can see) and its private params (that we don't know, but influence the behaviour)\n",
    "        \"\"\"\n",
    "        \n",
    "        self.params = params\n",
    "        self.seed = seed\n",
    "        self.rng = np.random.RandomState(seed)\n",
    "        self.id = user_id\n",
    "        self.price_appetence = price_appetence\n",
    "        \n",
    "        self.alter_params()\n",
    "\n",
    "    \n",
    "    def alter_params(self):\n",
    "        pass\n",
    "    \n",
    "    \n",
    "    \n",
    "    @classmethod\n",
    "    def randomPerson(cls,seed,dim,clusters,user_id):\n",
    "        rng = np.random.RandomState(seed)\n",
    "        \n",
    "        n = len(clusters)\n",
    "        c = clusters[rng.randint(n)]\n",
    "        \n",
    "        \n",
    "        \n",
    "        params = np.array([max(0,rng.normal(s,1)) for s in c])\n",
    "        \n",
    "        price_appetence = rng.uniform(1000)\n",
    "        \n",
    "        \n",
    "        return cls(params,price_appetence,seed,user_id)\n",
    "        \n",
    "        \n",
    "    def get_best_reward(self):\n",
    "        pass\n",
    "        \n",
    "    def get_proba(self,bike,price,days,days_wanted):\n",
    "        \n",
    "        proba = similarity(bike.params,self.params)\n",
    "        \n",
    "        \n",
    "        #print(np.exp(-price/self.price_appetence))\n",
    "        \n",
    "        proba = proba * np.exp(-price/self.price_appetence)\n",
    "        \n",
    "        proba = proba * np.exp(-abs(len(days) - len(days_wanted)))\n",
    "        \n",
    "        \n",
    "        \n",
    "        \n",
    "        \n",
    "        return proba\n",
    "    \n",
    "    def get_reward(self,bike,days,days_wanted):\n",
    "        \n",
    "        reward = similarity(bike.params,self.params)\n",
    "       \n",
    "        \n",
    "        reward = reward * self.price_appetence\n",
    "        \n",
    "        reward = reward * np.exp(-abs(len(days) - len(days_wanted)))\n",
    "        \n",
    "        \n",
    "        \n",
    "        \n",
    "        \n",
    "        return reward\n",
    "    \n",
    "    def get_best_reward(self,bike_list,days_list,days_wanted):\n",
    "        \n",
    "        rewards = []\n",
    "        \n",
    "        for (bike,days) in zip(bike_list,days_list):\n",
    "            rewards.append(self.get_reward(bike,days,days_wanted))\n",
    "            \n",
    "        return np.max(rewards)\n",
    "        \n",
    "    def which_bike(self,bike_list,days_list,price_list,days_wanted):\n",
    "        \n",
    "        \n",
    "        probas = []\n",
    "        \n",
    "        for (bike,days,price) in zip(bike_list,days_list,price_list):\n",
    "            probas.append(self.get_proba(bike,price,days,days_wanted))\n",
    "            \n",
    "            \n",
    "        #print(probas)\n",
    "            \n",
    "        is_chosen = []\n",
    "        prices = []\n",
    "        \n",
    "        for (i,p),price in zip(enumerate(probas),price_list):\n",
    "            if self.rng.uniform() < p:\n",
    "                is_chosen.append(i)\n",
    "                prices.append(price)\n",
    "                \n",
    "        if len(is_chosen) == 0:\n",
    "            return None,None\n",
    "        else:\n",
    "            a = self.rng.randint(len(is_chosen))\n",
    "            \n",
    "            return is_chosen[a],prices[a]\n",
    "            \n",
    "            \n",
    "    \n",
    "        "
   ]
  },
  {
   "cell_type": "code",
   "execution_count": 3,
   "metadata": {},
   "outputs": [],
   "source": [
    "class Bike(object):\n",
    "    def __init__(self,params,experiment_length,bike_id):\n",
    "        self.params = params\n",
    "        self.experiment_length = experiment_length\n",
    "        \n",
    "        days = list(range(self.experiment_length))\n",
    "        price = [0]*self.experiment_length\n",
    "        rented = [False]*self.experiment_length\n",
    "        self.id = bike_id\n",
    "        \n",
    "        \n",
    "        self.renting_data = pd.DataFrame({\n",
    "            \"day\":days,\n",
    "            \"price\":price,\n",
    "            \"rented\":rented\n",
    "        })\n",
    "        \n",
    "    def available_days(self,days):\n",
    "        return self.renting_data[(self.renting_data.day.isin(days)) & (self.renting_data.rented == False)].day.values\n",
    "    \n",
    "    \n",
    "    def rent(self,days,price):\n",
    "        \n",
    "        v = self.renting_data.rented.loc[self.renting_data.day.isin([days])].astype(int).sum()\n",
    "        \n",
    "        if v > 0:\n",
    "            return False\n",
    "        else:\n",
    "\n",
    "            self.renting_data.rented.loc[self.renting_data.day.isin([days])] = True\n",
    "            self.renting_data.price.loc[self.renting_data.day.isin([days])] = price\n",
    "            \n",
    "            return True"
   ]
  },
  {
   "cell_type": "code",
   "execution_count": 4,
   "metadata": {},
   "outputs": [],
   "source": [
    "class Environnement(object):\n",
    "    \n",
    "    def __init__(self,params,seed):\n",
    "        self.experiment_length = params[\"experiment_length\"]\n",
    "        self.seed = seed\n",
    "        \n",
    "        self.n_users = params[\"n_users\"]\n",
    "        self.n_clusters = params[\"n_clusters\"]\n",
    "        \n",
    "        self.dim = params[\"dim\"]\n",
    "        \n",
    "        self.users_per_day = params[\"users_per_day\"]\n",
    "        self.n_bikes_per_user = params[\"n_bikes_per_user\"]\n",
    "        \n",
    "    def init(self):\n",
    "        \n",
    "        \n",
    "        self.rng = np.random.RandomState(self.seed)\n",
    "        \n",
    "        \n",
    "        \n",
    "        \n",
    "        self.clusters = [np.array([self.rng.uniform() for i in range(self.dim)]) for j in range(self.n_clusters)]\n",
    "        \n",
    "        \n",
    "        self.peoples = [Person.randomPerson(s*seed,self.dim,self.clusters,s) for s in range(self.n_users)]\n",
    "        \n",
    "        \n",
    "        \n",
    "        self.bikes = [Bike(c,self.experiment_length,i) for (i,c) in enumerate(self.clusters)]\n",
    "        \n",
    "        \n",
    "        self.t = 0\n",
    "        \n",
    "        self.users_seen = 0\n",
    "        \n",
    "        self.current_user = self.rng.choice(self.peoples)\n",
    "        \n",
    "        self.days_wanted = self.get_wanted_days()\n",
    "        \n",
    "        self.history = pd.DataFrame(columns = [\n",
    "            \"user_id\",\n",
    "            \"days_wanted\",\n",
    "            \"bike_proposed\",\n",
    "            \"price_proposed\",\n",
    "            \"days_proposed\",\n",
    "            \"answer\"\n",
    "        ])\n",
    "        \n",
    "        \n",
    "    def get_wanted_days(self):\n",
    "        day1 = int(self.rng.exponential(20) + self.t)\n",
    "        day2 = int(self.rng.exponential(8) + day1)\n",
    "        \n",
    "        days = list(range(day1,day2))\n",
    "        \n",
    "        return days\n",
    "    \n",
    "    def get_history(self):\n",
    "        return self.history\n",
    "    \n",
    "        \n",
    "    def get_context(self):\n",
    "        \n",
    "        return {\n",
    "                \"day\":self.t,\n",
    "                \"user_id\":self.current_user.id,\n",
    "                \"days_wanted\":self.days_wanted,\n",
    "                \"bikes_available\":[bike.id for bike in self.bikes],\n",
    "                \"bikes_availability\":[bike.available_days(self.days_wanted) for bike in self.bikes]\n",
    "            }\n",
    "        \n",
    "        \n",
    "        \n",
    "    \n",
    "    def act(self,bike_list,days_list,price_list):\n",
    "        \n",
    "        if self.t == self.experiment_length:\n",
    "            return \"Experiment_over\"\n",
    "        \n",
    "        bike_proposed = bike_list[:self.n_bikes_per_user]\n",
    "        bike_list = [self.bikes[bike_id] for bike_id in bike_list][:self.n_bikes_per_user]\n",
    "        \n",
    "        \n",
    "        indice_chosen,price = self.current_user.which_bike(bike_list,days_list,price_list,self.days_wanted)\n",
    "        \n",
    "        \n",
    "        \n",
    "        context = self.get_context()\n",
    "        best_reward = self.current_user.get_best_reward([self.bikes[b] for b in context[\"bikes_available\"]],context[\"bikes_availability\"],self.days_wanted)\n",
    "        \n",
    "        \n",
    "\n",
    "        result = None\n",
    "        \n",
    "        if indice_chosen != None:\n",
    "            chosen_bike = bike_list[indice_chosen]\n",
    "            \n",
    "            result = chosen_bike.rent(days_list[indice_chosen],price_list[indice_chosen])\n",
    "            \n",
    "            if result:\n",
    "                result = chosen_bike.id\n",
    "            \n",
    "        reward = price\n",
    "        if result == None:\n",
    "            result = \"REFUSED\"\n",
    "            reward = 0\n",
    "        elif result == False:\n",
    "            result = \"INVALID\"\n",
    "            reward = 0\n",
    "        \n",
    "            \n",
    "            \n",
    "        history_to_append = pd.DataFrame({\n",
    "            \"user_id\":[self.current_user.id],\n",
    "            \"days_wanted\":[self.days_wanted],\n",
    "            \"bike_proposed\":[bike_proposed],\n",
    "            \"price_proposed\":[price_list],\n",
    "            \"days_proposed\":[days_list],\n",
    "            \"answer\":[result],\n",
    "            \"reward\":[reward],\n",
    "            \"best_reward\":[best_reward]\n",
    "        })\n",
    "        \n",
    "        self.history = pd.concat([self.history,history_to_append])\n",
    "        \n",
    "        \n",
    "        \n",
    "        self.users_seen =+ 1\n",
    "        self.t = self.users_seen % self.users_per_day\n",
    "        \n",
    "        self.current_user = self.rng.choice(self.peoples)\n",
    "        \n",
    "        self.days_wanted = self.get_wanted_days()\n",
    "        \n",
    "        \n",
    "        \n",
    "\n",
    "        return result\n",
    "        "
   ]
  },
  {
   "cell_type": "code",
   "execution_count": 5,
   "metadata": {},
   "outputs": [],
   "source": [
    "class Policy(object):\n",
    "    def __init__(self,params,seed):\n",
    "        self.params = params\n",
    "        self.seed = seed\n",
    "        self.list_length = self.params[\"list_length\"]\n",
    "        \n",
    "    def init(self):\n",
    "        self.rng = np.random.RandomState(self.seed)\n",
    "        \n",
    "    def get_action(self,context):\n",
    "        return context[\"bikes_available\"],context[\"bikes_availability\"],[self.params[\"price\"] for i in range(len(context[\"bikes_available\"]))]"
   ]
  },
  {
   "cell_type": "code",
   "execution_count": 6,
   "metadata": {},
   "outputs": [],
   "source": [
    "params = {\n",
    "    'experiment_length':365,\n",
    "    \"n_users\":10000,\n",
    "    \"n_clusters\":5,\n",
    "    'dim':10,\n",
    "    \"n_bikes_per_user\":5,\n",
    "    \"users_per_day\":10\n",
    "}\n",
    "seed = 2\n",
    "env = Environnement(params,seed)\n",
    "\n",
    "env.init()"
   ]
  },
  {
   "cell_type": "code",
   "execution_count": 7,
   "metadata": {},
   "outputs": [
    {
     "data": {
      "text/plain": [
       "[38, 39, 40, 41]"
      ]
     },
     "execution_count": 7,
     "metadata": {},
     "output_type": "execute_result"
    }
   ],
   "source": [
    "env.get_wanted_days()"
   ]
  },
  {
   "cell_type": "code",
   "execution_count": 8,
   "metadata": {},
   "outputs": [
    {
     "data": {
      "text/plain": [
       "{'day': 0,\n",
       " 'user_id': 8211,\n",
       " 'days_wanted': [1, 2, 3],\n",
       " 'bikes_available': [0, 1, 2, 3, 4],\n",
       " 'bikes_availability': [array([1, 2, 3]),\n",
       "  array([1, 2, 3]),\n",
       "  array([1, 2, 3]),\n",
       "  array([1, 2, 3]),\n",
       "  array([1, 2, 3])]}"
      ]
     },
     "execution_count": 8,
     "metadata": {},
     "output_type": "execute_result"
    }
   ],
   "source": [
    "env.get_context()"
   ]
  },
  {
   "cell_type": "code",
   "execution_count": 9,
   "metadata": {},
   "outputs": [
    {
     "name": "stderr",
     "output_type": "stream",
     "text": [
      "  0%|          | 0/100 [00:00<?, ?it/s]/home/bnoyt/anaconda3/lib/python3.7/site-packages/pandas/core/indexing.py:190: SettingWithCopyWarning: \n",
      "A value is trying to be set on a copy of a slice from a DataFrame\n",
      "\n",
      "See the caveats in the documentation: http://pandas.pydata.org/pandas-docs/stable/indexing.html#indexing-view-versus-copy\n",
      "  self._setitem_with_indexer(indexer, value)\n",
      "/home/bnoyt/anaconda3/lib/python3.7/site-packages/ipykernel_launcher.py:125: FutureWarning: Sorting because non-concatenation axis is not aligned. A future version\n",
      "of pandas will change to not sort by default.\n",
      "\n",
      "To accept the future behavior, pass 'sort=False'.\n",
      "\n",
      "To retain the current behavior and silence the warning, pass 'sort=True'.\n",
      "\n",
      "100%|██████████| 100/100 [00:12<00:00,  8.89it/s]\n"
     ]
    },
    {
     "name": "stdout",
     "output_type": "stream",
     "text": [
      "7.3\n"
     ]
    },
    {
     "name": "stderr",
     "output_type": "stream",
     "text": [
      "100%|██████████| 100/100 [00:11<00:00,  8.56it/s]\n"
     ]
    },
    {
     "name": "stdout",
     "output_type": "stream",
     "text": [
      "62.0\n"
     ]
    },
    {
     "name": "stderr",
     "output_type": "stream",
     "text": [
      "100%|██████████| 100/100 [00:08<00:00, 11.46it/s]\n"
     ]
    },
    {
     "name": "stdout",
     "output_type": "stream",
     "text": [
      "210.0\n"
     ]
    },
    {
     "name": "stderr",
     "output_type": "stream",
     "text": [
      "100%|██████████| 100/100 [00:05<00:00, 18.45it/s]\n"
     ]
    },
    {
     "name": "stdout",
     "output_type": "stream",
     "text": [
      "170.0\n"
     ]
    },
    {
     "name": "stderr",
     "output_type": "stream",
     "text": [
      "100%|██████████| 100/100 [00:04<00:00, 23.93it/s]"
     ]
    },
    {
     "name": "stdout",
     "output_type": "stream",
     "text": [
      "140.0\n"
     ]
    },
    {
     "name": "stderr",
     "output_type": "stream",
     "text": [
      "\n"
     ]
    },
    {
     "data": {
      "text/plain": [
       "<matplotlib.legend.Legend at 0x7f4f70231128>"
      ]
     },
     "execution_count": 9,
     "metadata": {},
     "output_type": "execute_result"
    },
    {
     "data": {
      "image/png": "[encoded data removed]",
      "text/plain": [
       "<Figure size 432x288 with 1 Axes>"
      ]
     },
     "metadata": {
      "needs_background": "light"
     },
     "output_type": "display_data"
    }
   ],
   "source": [
    "n_steps = 100\n",
    "\n",
    "\n",
    "params = {\n",
    "    'experiment_length':365,\n",
    "    \"n_users\":10000,\n",
    "    \"n_clusters\":5,\n",
    "    'dim':10,\n",
    "    \"n_bikes_per_user\":5,\n",
    "    \"users_per_day\":10\n",
    "}\n",
    "seed = 2\n",
    "env = Environnement(params,seed)\n",
    "\n",
    "env.init()\n",
    "\n",
    "policy = Policy({\"list_length\":5,\"price\":10},3)\n",
    "for i in tqdm(range(n_steps)):\n",
    "    context = env.get_context()\n",
    "    b,d,p = policy.get_action(context)\n",
    "    result = env.act(b,d,p)\n",
    "    \n",
    "df = env.get_history()\n",
    "\n",
    "print(df.reward.mean())\n",
    "\n",
    "\n",
    "regret = df.best_reward.cumsum() - df.reward.cumsum()\n",
    "\n",
    "plt.plot(regret.values,label=\"random p = 10\")\n",
    "\n",
    "params = {\n",
    "    'experiment_length':365,\n",
    "    \"n_users\":10000,\n",
    "    \"n_clusters\":5,\n",
    "    'dim':10,\n",
    "    \"n_bikes_per_user\":5,\n",
    "    \"users_per_day\":10\n",
    "}\n",
    "seed = 2\n",
    "env = Environnement(params,seed)\n",
    "\n",
    "env.init()\n",
    "\n",
    "\n",
    "policy = Policy({\"list_length\":5,\"price\":100},3)\n",
    "for i in tqdm(range(n_steps)):\n",
    "    context = env.get_context()\n",
    "    b,d,p = policy.get_action(context)\n",
    "    result = env.act(b,d,p)\n",
    "    \n",
    "df = env.get_history()\n",
    "\n",
    "print(df.reward.mean())\n",
    "\n",
    "\n",
    "regret = df.best_reward.cumsum() - df.reward.cumsum()\n",
    "\n",
    "plt.plot(regret.values,label=\"random p = 100\")\n",
    "\n",
    "params = {\n",
    "    'experiment_length':365,\n",
    "    \"n_users\":10000,\n",
    "    \"n_clusters\":5,\n",
    "    'dim':10,\n",
    "    \"n_bikes_per_user\":5,\n",
    "    \"users_per_day\":10\n",
    "}\n",
    "seed = 2\n",
    "env = Environnement(params,seed)\n",
    "\n",
    "env.init()\n",
    "\n",
    "policy = Policy({\"list_length\":5,\"price\":500},3)\n",
    "for i in tqdm(range(n_steps)):\n",
    "    context = env.get_context()\n",
    "    b,d,p = policy.get_action(context)\n",
    "    result = env.act(b,d,p)\n",
    "    \n",
    "df = env.get_history()\n",
    "\n",
    "print(df.reward.mean())\n",
    "\n",
    "\n",
    "regret = df.best_reward.cumsum() - df.reward.cumsum()\n",
    "\n",
    "plt.plot(regret.values,label=\"random p = 500\")\n",
    "\n",
    "params = {\n",
    "    'experiment_length':365,\n",
    "    \"n_users\":10000,\n",
    "    \"n_clusters\":5,\n",
    "    'dim':10,\n",
    "    \"n_bikes_per_user\":5,\n",
    "    \"users_per_day\":10\n",
    "}\n",
    "seed = 2\n",
    "env = Environnement(params,seed)\n",
    "\n",
    "env.init()\n",
    "\n",
    "policy = Policy({\"list_length\":5,\"price\":1000},3)\n",
    "for i in tqdm(range(n_steps)):\n",
    "    context = env.get_context()\n",
    "    b,d,p = policy.get_action(context)\n",
    "    result = env.act(b,d,p)\n",
    "    \n",
    "df = env.get_history()\n",
    "\n",
    "print(df.reward.mean())\n",
    "\n",
    "\n",
    "regret = df.best_reward.cumsum() - df.reward.cumsum()\n",
    "\n",
    "plt.plot(regret.values,label=\"random p = 1000\")\n",
    "\n",
    "plt.legend()\n",
    "\n",
    "\n",
    "params = {\n",
    "    'experiment_length':365,\n",
    "    \"n_users\":10000,\n",
    "    \"n_clusters\":5,\n",
    "    'dim':10,\n",
    "    \"n_bikes_per_user\":5,\n",
    "    \"users_per_day\":10\n",
    "}\n",
    "seed = 2\n",
    "env = Environnement(params,seed)\n",
    "\n",
    "env.init()\n",
    "\n",
    "policy = Policy({\"list_length\":5,\"price\":2000},3)\n",
    "for i in tqdm(range(n_steps)):\n",
    "    context = env.get_context()\n",
    "    b,d,p = policy.get_action(context)\n",
    "    result = env.act(b,d,p)\n",
    "    \n",
    "df = env.get_history()\n",
    "\n",
    "print(df.reward.mean())\n",
    "\n",
    "\n",
    "regret = df.best_reward.cumsum() - df.reward.cumsum()\n",
    "\n",
    "plt.plot(regret.values,label=\"random p = 2000\")\n",
    "\n",
    "plt.legend()"
   ]
  },
  {
   "cell_type": "code",
   "execution_count": null,
   "metadata": {},
   "outputs": [],
   "source": []
  }
 ],
 "metadata": {
  "kernelspec": {
   "display_name": "Python 3",
   "language": "python",
   "name": "python3"
  },
  "language_info": {
   "codemirror_mode": {
    "name": "ipython",
    "version": 3
   },
   "file_extension": ".py",
   "mimetype": "text/x-python",
   "name": "python",
   "nbconvert_exporter": "python",
   "pygments_lexer": "ipython3",
   "version": "3.7.3"
  }
 },
 "nbformat": 4,
 "nbformat_minor": 4
}
