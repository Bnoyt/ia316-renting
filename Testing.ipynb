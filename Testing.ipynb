{
 "cells": [
  {
   "cell_type": "code",
   "execution_count": 78,
   "metadata": {},
   "outputs": [],
   "source": [
    "from utils import *\n",
    "from environnement import Environnement\n",
    "from policies import Policy,RandomPolicy,SmarterRandomPolicy\n",
    "from tester import Tester\n",

    "pd.options.mode.chained_assignment = None  # default='warn'\n",
    "import warnings\n",
    "warnings.filterwarnings(\"ignore\")"

   ]
  },
  {
   "cell_type": "code",
   "execution_count": 79,
   "metadata": {},
   "outputs": [],
   "source": [

    "class EGreedyPolicy(Policy):\n",
    "    \"\"\"\n",
    "    Example de policy qui fait un epsilon greedy (mais qui marche pas trop trop)\n",
    "    \n",
    "    \"\"\"\n",
    "    \n",
    "    \n",
    "    def __init__(self,params,seed):\n",
    "        self.params = params\n",
    "        self.seed = seed\n",
    "        self.list_length = self.params[\"list_length\"]\n",
    "        self.n_bikes = self.params[\"n_bikes\"]\n",
    "        self.init()\n",
    "        self.eps = self.params[\"eps\"]\n",
    "        self.__name__ = f\"EGreedyPolicy_{params['price']}\"\n",
    "        \n",
    "\n",
    "            \n",
    "        \n",
    "    def get_action(self,context):\n",
    "        \n",
    "        df = self.get_history() # La méthode pour récupérer l'historique\n",
    "        \n",
    "        df = df[df.user_id == context['user_id']]\n",
    "        \n",
    "        if self.rng.uniform() < self.eps or len(df) < 10:\n",
    "        \n",
    "            a = [len(d) for d in context[\"bikes_availability\"]]\n",
    "\n",
    "            chosen_index = self.rng.randint(0,len(a))  \n",
    "\n",
    "            return [context[\"bikes_available\"][chosen_index]],[context['bikes_availability'][chosen_index]],[self.params[\"price\"]]\n",
    "            return [context[\"bikes_available\"][chosen_index]],[context['days_wanted']],[self.params[\"price\"]]\n",
    "\n",
    "        \n",
    "        \n",
    "        else:\n",
    "            bikes_ids = pd.DataFrame({\n",
    "                'bike_id':context[\"bikes_available\"]\n",
    "            })\n",
    "            \n",
    "            \n",
    "            df = df.merge(bikes_ids,on='bike_id').groupby('bike_id').accepted.mean().reset_index().sort_values('accepted',ascending=True)\n",
    "            \n",
    "            chosen_index = context[\"bikes_available\"].index(df.bike_id.values[0])\n",
    "            \n",
    "            return [context[\"bikes_available\"][chosen_index]],[context['bikes_availability'][chosen_index]],[self.params[\"price\"]]\n",

    "            return [context[\"bikes_available\"][chosen_index]],[context['days_wanted']],[self.params[\"price\"]]\n",
    "\n",

    "            \n",
    "            else :\n",
    "                \n",
    "                #bikes_ids a une seule colonne 'bike_id' qui contient les id des bikes\n",
    "                bikes_ids = pd.DataFrame({\n",
    "                        'bike_id':context[\"bikes_available\"]\n",
    "                    })\n",
    "\n",
    "                df = df.merge(bikes_ids,on='bike_id').groupby('bike_id').accepted.mean().reset_index().sort_values('accepted',ascending=True)\n",
    "\n",
    "                #crée la colonne contenant le Nt(a) du dénominateur dans ucb\n",
    "                df2 = self.get_history()[self.get_history().user_id == context['user_id']].groupby('bike_id').accepted.sum().reset_index()\n",
    "                df2.columns=['bike_id','sum_accepted']\n",
    "\n",
    "                df = df.merge(df2,on='bike_id')\n",
    "\n",
    "                #on suppose c=1\n",
    "                df['arg_ucb']=df.apply(lambda x : (x['accepted'] + np.sqrt(context['day']/x['sum_accepted'])),axis=1)\n",
    "\n",
    "                df=df.reset_index().sort_values(by=['arg_ucb'],ascending=False)\n",
    "\n",
    "                chosen_index = context[\"bikes_available\"].index(df.bike_id.values[0])\n",
    "\n",
    "                return [context[\"bikes_available\"][chosen_index]],[context['bikes_availability'][chosen_index]],[self.params[\"price\"]]"
   ]
  },
  {
   "cell_type": "code",

   "execution_count": 3,

   "metadata": {},
   "outputs": [],
   "source": [
    "class UCBPolicy(Policy):\n",
    "    \"\"\"\n",
    "    Exemple de UCB policy\n",
    "    \n",
    "    \"\"\"\n",
    "    \n",
    "    \n",
    "    def __init__(self,params,seed):\n",
    "        self.params = params\n",
    "        self.seed = seed\n",
    "        self.list_length = self.params[\"list_length\"]\n",
    "        self.n_bikes = self.params[\"n_bikes\"]\n",
    "        self.init()\n",
    "        self.__name__ = f\"UCBPolicy_{params['price']}\"\n",
    "        \n",
    "        \n",
    "        \n",
    "    def get_action(self,context):\n",
    "        \n",
    "        df = self.get_history() \n",
    "        u = df.copy()\n",
    "        \n",
    "        #on veut s'assurer que les Nt(a) ne valent pas 0 donc on doit attribuer chaque vélo au moins une fois\n",
    "        if df.shape[0]<self.params[\"n_bikes\"]:\n",
    "            return [context[\"bikes_available\"][df.shape[0]]],[context['bikes_availability'][df.shape[0]]],[self.params[\"price\"]]\n",
    "        \n",
    "        else :\n",
    "\n",
    "            df = df[df.user_id == context['user_id']]\n",
    "\n",
    "            if len(df) < 10:\n",
    "                a = [len(d) for d in context[\"bikes_availability\"]]\n",
    "                chosen_index = self.rng.randint(0,len(a))  \n",
    "                return [context[\"bikes_available\"][chosen_index]],[context['bikes_availability'][chosen_index]],[self.params[\"price\"]]\n",
    "                return [context[\"bikes_available\"][chosen_index]],[context['days_wanted']],[self.params[\"price\"]]\n",
    "\n",
    "            \n",
    "            else :\n",
    "                \n",
    "                #bikes_ids a une seule colonne 'bike_id' qui contient les id des bikes\n",
    "                bikes_ids = pd.DataFrame({\n",
    "                        'bike_id':context[\"bikes_available\"]\n",
    "                    })\n",
    "\n",
    "                df = df.merge(bikes_ids,on='bike_id').groupby('bike_id').accepted.mean().reset_index().sort_values('accepted',ascending=True)\n",
    "\n",
    "                #crée la colonne contenant le Nt(a) du dénominateur dans ucb\n",
    "                \n",
    "                \n",
    "                df2 = u[u.user_id == context['user_id']].groupby('bike_id').accepted.sum().reset_index()\n",
    "                df2.columns=['bike_id','sum_accepted']\n",
    "\n",
    "                df = df.merge(df2,on='bike_id')\n",
    "\n",
    "                #on suppose c=1\n",
    "                df['arg_ucb']=df.apply(lambda x : (x['accepted'] + np.sqrt(context['day']/x['sum_accepted'])),axis=1)\n",
    "                \n",
    "                \n",
    "                correction =    [    np.exp(-abs(len(days) - len(context['days_wanted']))) for days in context['bikes_availability']]\n",
    "                correction = pd.DataFrame({\"correction\":correction,\"bike_id\":context[\"bikes_available\"]})\n",
    "                \n",
    "                df = df.merge(correction,on=\"bike_id\")\n",
    "                \n",
    "                df[\"arg_ucb\"] = df[\"arg_ucb\"]*df.correction\n",
    "\n",
    "                df=df.reset_index().sort_values(by=['arg_ucb'],ascending=False)\n",
    "\n",
    "                chosen_index = context[\"bikes_available\"].index(df.bike_id.values[0])\n",
    "\n",
    "                return [context[\"bikes_available\"][chosen_index]],[context['bikes_availability'][chosen_index]],[self.params[\"price\"]]\n",
    "                return [context[\"bikes_available\"][chosen_index]],[context['days_wanted']],[self.params[\"price\"]]\n"
   ]
  },
  {
   "cell_type": "code",
   "execution_count": 4,
   "metadata": {},
   "outputs": [
    {
     "name": "stderr",
     "output_type": "stream",
     "text": [
      "Using TensorFlow backend.\n"
     ]
    }
   ],
   "source": [
    "from keras.layers import Embedding, Flatten, Dense, Dropout,Input\n",
    "from keras.layers import Dot\n",
    "from keras.models import Model\n",
    "\n",
    "\n",
    "class DeepPolicy(Policy):\n",
    "    \"\"\"\n",
    "    Example de policy qui fait un epsilon greedy (mais qui marche pas trop trop)\n",
    "    \n",
    "    \"\"\"\n",
    "    \n",
    "    \n",
    "    def __init__(self,params,seed):\n",
    "        self.params = params\n",
    "        self.seed = seed\n",
    "        self.list_length = self.params[\"list_length\"]\n",
    "        self.n_bikes = self.params[\"n_bikes\"]\n",
    "        self.init()\n",
    "        self.eps = self.params[\"eps\"]\n",
    "        self.__name__ = f\"DeepPolicy_{params['price']}\"\n",
    "        \n",
    "        \n",
    "    def init(self):\n",
    "        self.rng = np.random.RandomState(self.seed)\n",
    "        self.history = []\n",
    "        \n",
    "        \n",
    "        user_inputs = Input(shape=(1,))\n",
    "        bike_inputs = Input(shape=(1,))\n",
    "        \n",
    "        user_embedding = Embedding(output_dim=self.params[\"embedding_size\"],\n",
    "                                        input_dim=self.params[\"n_users\"],\n",
    "                                        input_length=1,\n",
    "                                        name='user_embedding')\n",
    "        bike_embedding = Embedding(output_dim=self.params[\"embedding_size\"],\n",
    "                                        input_dim=self.params[\"n_bikes\"],\n",
    "                                        input_length=1,\n",
    "                                        name='bike_embedding')\n",
    "        \n",
    "        user_vecs = Flatten()(user_embedding(user_inputs))\n",
    "        bike_vecs = Flatten()(bike_embedding(bike_inputs))\n",
    "        \n",
    "        final_layer = Dot(axes=1)([user_vecs, bike_vecs])\n",
    "        \n",
    "        \n",
    "        self.model = Model(inputs=[user_inputs,bike_inputs],outputs=[final_layer])\n",
    "        \n",
    "        \n",
    "        self.model.compile(optimizer=\"adam\", loss='mae') \n",
    "        \n",
    "\n",
    "            \n",
    "        \n",
    "    def get_action(self,context):\n",
    "        \n",
    "        df = self.get_history() # La méthode pour récupérer l'historique\n",
    "        \n",
    "        df = df[df.user_id == context['user_id']]\n",
    "        \n",
    "        if len(df) < 100:\n",
    "        \n",
    "            a = [len(d) for d in context[\"bikes_availability\"]]\n",
    "\n",
    "\n",
    "            chosen_index = self.rng.randint(0,len(a))  \n",
    "\n",
    "            return [context[\"bikes_available\"][chosen_index]],[context['bikes_availability'][chosen_index]],[self.params[\"price\"]]\n",
    "            return [context[\"bikes_available\"][chosen_index]],[context['days_wanted']],[self.params[\"price\"]]\n",
    "        \n",
    "        \n",
    "        else:\n",
    "            \n",
    "            X1,X2 =   df[[\"user_id\",\"bike_id\"]].values[:,0],df[[\"user_id\",\"bike_id\"]].values[:,1]\n",
    "            y = df[\"accepted\"].values\n",
    "            \n",
    "            \n",
    "            \n",
    "            \n",
    "            self.model.fit([X1,X2],y,verbose=0)\n",
    "            \n",
    "            \n",
    "            X1,X2 = [context[\"user_id\"] for v in context[\"bikes_available\"]], [v for v in context[\"bikes_available\"]]\n",
    "            \n",
    "            \n",
    "            ratings = self.model.predict([X1,X2])\n",
    "            \n",
    "            correction =    [    np.exp(-abs(len(days) - len(context['days_wanted']))) for days in context['bikes_availability']]\n",
    "            \n",
    "        \n",
    "            ratings = [x*y for (x,y) in zip(ratings,correction)]\n",
    "            \n",
    "            chosen_index = np.argmax(ratings)\n",
    "            \n",
    "            return [context[\"bikes_available\"][chosen_index]],[context['bikes_availability'][chosen_index]],[self.params[\"price\"]]\n",
    "            return [context[\"bikes_available\"][chosen_index]],[context['days_wanted']],[self.params[\"price\"]]\n",
    "            \n",
    "            \n",
    "            \n",
    "            \n",
    "            \n",
    "            \n",
    "         "
   ]
  },
  {
   "cell_type": "code",
   "execution_count": 83,
   "metadata": {},
   "outputs": [],
   "source": [
    "params = {\n",
    "    'n_steps':1000,\n",
    "    \"n_rep\":20\n",
    "}\n",
    "env_params = {\n",
    "    'experiment_length':1000, # Beaucoup de jours\n",
    "    \"n_users\":10, #peu d'utilisateur\n",
    "    \"n_clusters\":5, # peu de vélos\n",
    "    'dim':5,\n",
    "    \"n_bikes_per_user\":1, # Un seul vélo proposé à chaque fois\n",
    "    \"users_per_day\":1,\n",
    "    'bike_overlapping':True\n",
    "}\n",
    "env = Environnement(env_params,5)"
   ]
  },
  {
   "cell_type": "code",
   "execution_count": 84,
   "metadata": {},
   "outputs": [],
   "source": [
    "tester2 = Tester([\n",
    "    UCBPolicy({\"list_length\":1,\"price\":10,\"n_bikes\":2,\"eps\":0.5},3),\n",
    "],env,params)"
   ]
  },
  {
   "cell_type": "code",
   "execution_count": 85,
   "metadata": {},
   "outputs": [
    {
     "name": "stderr",
     "output_type": "stream",
     "text": [
      "\n",
      "\n",
      "\n",
      "\n",
      "\n",
      "\n",
      "  0%|          | 0/5 [00:00<?, ?it/s]\u001b[A\u001b[A\u001b[A\u001b[A\u001b[A\u001b[A"
     ]
    },
    {
     "name": "stdout",
     "output_type": "stream",
     "text": [
      "Testing policy |UCBPolicy_10|\n"
     ]
    },
    {
     "name": "stderr",
     "output_type": "stream",
     "text": [
      "\n",
      "\n",
      "\n",
      "\n",
      "\n",
      "\n",
      " 20%|██        | 1/5 [00:18<01:15, 18.95s/it]\u001b[A\u001b[A\u001b[A\u001b[A\u001b[A\u001b[A\n",
      "\n",
      "\n",
      "\n",
      "\n",
      "\n",
      " 40%|████      | 2/5 [00:37<00:56, 18.89s/it]\u001b[A\u001b[A\u001b[A\u001b[A\u001b[A\u001b[A/home/coralie/anaconda3/lib/python3.7/site-packages/ipykernel/__main__.py:51: RuntimeWarning: invalid value encountered in double_scalars\n",
      "\n",
      "\n",
      "\n",
      "\n",
      "\n",
      "\n",
      " 60%|██████    | 3/5 [00:56<00:37, 18.77s/it]\u001b[A\u001b[A\u001b[A\u001b[A\u001b[A\u001b[A\n",
      "\n",
      "\n",
      "\n",
      "\n",
      "\n",
      " 80%|████████  | 4/5 [01:14<00:18, 18.71s/it]\u001b[A\u001b[A\u001b[A\u001b[A\u001b[A\u001b[A\n",
      "\n",
      "\n",
      "\n",
      "\n",
      "\n",
      "100%|██████████| 5/5 [01:32<00:00, 18.51s/it]\u001b[A\u001b[A\u001b[A\u001b[A\u001b[A\u001b[A\n",
      "\n",
      "\n",
      "\n",
      "\n",
      "\n",
      "\u001b[A\u001b[A\u001b[A\u001b[A\u001b[A\u001b[A"
     ]
    }
   ],
   "source": [
    "tester2.run()"
   ]
  },
  {
   "cell_type": "code",
   "execution_count": 86,
   "metadata": {},
   "outputs": [
    {
     "data": {
      "image/png": "[encoded data removed]",
      "text/plain": [
       "<Figure size 1080x504 with 1 Axes>"
      ]
     },
     "metadata": {
      "needs_background": "light"
     },
     "output_type": "display_data"
    }
   ],
   "source": [
    "tester2.plotAllPoliciesQuantiles()"
   ]
  },
  {
   "cell_type": "code",
   "execution_count": 8,
   "metadata": {},
   "outputs": [
    {
     "name": "stdout",
     "output_type": "stream",
     "text": [
      "WARNING:tensorflow:From /home/bnoyt/anaconda3/lib/python3.7/site-packages/keras/backend/tensorflow_backend.py:74: The name tf.get_default_graph is deprecated. Please use tf.compat.v1.get_default_graph instead.\n",
      "\n",
      "WARNING:tensorflow:From /home/bnoyt/anaconda3/lib/python3.7/site-packages/keras/backend/tensorflow_backend.py:517: The name tf.placeholder is deprecated. Please use tf.compat.v1.placeholder instead.\n",
      "\n",
      "WARNING:tensorflow:From /home/bnoyt/anaconda3/lib/python3.7/site-packages/keras/backend/tensorflow_backend.py:4138: The name tf.random_uniform is deprecated. Please use tf.random.uniform instead.\n",
      "\n",
      "WARNING:tensorflow:From /home/bnoyt/anaconda3/lib/python3.7/site-packages/keras/optimizers.py:790: The name tf.train.Optimizer is deprecated. Please use tf.compat.v1.train.Optimizer instead.\n",
      "\n"
     ]
    }
   ],
   "source": [
    "tester = Tester([\n",
    "    UCBPolicy({\"list_length\":1,\"price\":500,\"n_bikes\":5,\"eps\":0.5},3),\n",
    "    DeepPolicy({\"list_length\":1,\"price\":500,\"n_bikes\":5,\"eps\":0.5,\"n_users\":10,\"embedding_size\":5},3),\n",
    "    EGreedyPolicy({\"list_length\":1,\"price\":500,\"n_bikes\":5,\"eps\":0.5},3),\n",
    "    RandomPolicy({\"list_length\":1,\"price\":500},3),\n",
    "    SmarterRandomPolicy({\"list_length\":1,\"price\":500},3),\n",
    "    \n",
    "    \n",
    "],env,params)"
   ]
  },
  {
   "cell_type": "code",
   "execution_count": null,
   "metadata": {},
   "outputs": [
    {
     "name": "stderr",
     "output_type": "stream",
     "text": [

      "  0%|          | 0/20 [00:00<?, ?it/s]"

     ]
    },
    {
     "name": "stdout",
     "output_type": "stream",
     "text": [
      "Testing policy |UCBPolicy_500|\n"
     ]
    },
    {
     "name": "stderr",
     "output_type": "stream",
     "text": [

      " 20%|██        | 4/20 [01:30<06:02, 22.63s/it]"

     ]
    }
   ],
   "source": [
    "tester.run()"
   ]
  },
  {
   "cell_type": "code",

   "execution_count": null,
   "metadata": {},
   "outputs": [],

   "source": [
    "tester.plotAllPoliciesQuantiles()"
   ]
  },
  {
   "cell_type": "code",

   "execution_count": null,
   "metadata": {},
   "outputs": [],
   "source": [
    "tester.plotAllPoliciesCompared()"

   ]
  },
  {
   "cell_type": "code",
   "execution_count": null,
   "metadata": {},
   "outputs": [],
   "source": []
  }
 ],
 "metadata": {
  "kernelspec": {
   "display_name": "Python [default]",
   "language": "python",
   "name": "python3"
  },
  "language_info": {
   "codemirror_mode": {
    "name": "ipython",
    "version": 3
   },
   "file_extension": ".py",
   "mimetype": "text/x-python",
   "name": "python",
   "nbconvert_exporter": "python",
   "pygments_lexer": "ipython3",
   "version": "3.7.0"
  }
 },
 "nbformat": 4,
 "nbformat_minor": 4
}
